{
  "cells": [
    {
      "cell_type": "code",
      "execution_count": 1,
      "id": "QAMuF23tDHW3",
      "metadata": {
        "colab": {
          "base_uri": "https://localhost:8080/"
        },
        "id": "QAMuF23tDHW3",
        "outputId": "2760519b-590b-43c5-b5c5-ce3713d9d19a"
      },
      "outputs": [
        {
          "output_type": "stream",
          "name": "stdout",
          "text": [
            "Collecting janome\n",
            "  Downloading Janome-0.5.0-py2.py3-none-any.whl (19.7 MB)\n",
            "\u001b[2K     \u001b[90m━━━━━━━━━━━━━━━━━━━━━━━━━━━━━━━━━━━━━━━━\u001b[0m \u001b[32m19.7/19.7 MB\u001b[0m \u001b[31m56.1 MB/s\u001b[0m eta \u001b[36m0:00:00\u001b[0m\n",
            "\u001b[?25hInstalling collected packages: janome\n",
            "Successfully installed janome-0.5.0\n"
          ]
        }
      ],
      "source": [
        "!pip install janome\n"
      ]
    },
    {
      "cell_type": "code",
      "execution_count": 2,
      "id": "2cb79cbe",
      "metadata": {
        "colab": {
          "base_uri": "https://localhost:8080/"
        },
        "id": "2cb79cbe",
        "outputId": "8180d4d1-49bf-481e-fba5-fd65b10db390"
      },
      "outputs": [
        {
          "output_type": "stream",
          "name": "stdout",
          "text": [
            "すもも\t名詞,一般,*,*,*,*,すもも,スモモ,スモモ\n",
            "も\t助詞,係助詞,*,*,*,*,も,モ,モ\n",
            "もも\t名詞,一般,*,*,*,*,もも,モモ,モモ\n",
            "も\t助詞,係助詞,*,*,*,*,も,モ,モ\n",
            "もも\t名詞,一般,*,*,*,*,もも,モモ,モモ\n",
            "の\t助詞,連体化,*,*,*,*,の,ノ,ノ\n",
            "うち\t名詞,非自立,副詞可能,*,*,*,うち,ウチ,ウチ\n"
          ]
        }
      ],
      "source": [
        "from janome.tokenizer import Tokenizer\n",
        "\n",
        "t = Tokenizer()\n",
        "\n",
        "for token in t.tokenize('すもももももももものうち'):\n",
        "\tprint(token)"
      ]
    },
    {
      "cell_type": "code",
      "execution_count": 3,
      "id": "c596c921",
      "metadata": {
        "id": "c596c921",
        "colab": {
          "base_uri": "https://localhost:8080/"
        },
        "outputId": "62b518ba-d8a0-4498-ad58-48810b6186a9"
      },
      "outputs": [
        {
          "output_type": "stream",
          "name": "stdout",
          "text": [
            "名詞,一般,*,*\n",
            "うどん\n",
            "うどん\n",
            "助詞,格助詞,一般,*\n",
            "を\n",
            "を\n",
            "動詞,自立,*,*\n",
            "作ろ\n",
            "作る\n",
            "助動詞,*,*,*\n",
            "う\n",
            "う\n"
          ]
        }
      ],
      "source": [
        "from janome.tokenizer import Tokenizer\n",
        "\n",
        "t = Tokenizer()\n",
        "\n",
        "for token in t.tokenize('うどんを作ろう'):\n",
        "  print(token.part_of_speech)\n",
        "  print(token.surface)\n",
        "  print(token.base_form)"
      ]
    },
    {
      "cell_type": "code",
      "execution_count": 4,
      "id": "42e33d9c",
      "metadata": {
        "id": "42e33d9c",
        "colab": {
          "base_uri": "https://localhost:8080/"
        },
        "outputId": "20f8f6a3-73d0-4974-e53c-8528aaea356f"
      },
      "outputs": [
        {
          "output_type": "stream",
          "name": "stdout",
          "text": [
            "もも\t名詞,一般,*,*,*,*,もも,モモ,モモ\n",
            "もも\t名詞,一般,*,*,*,*,もも,モモ,モモ\n",
            "もも\t名詞,一般,*,*,*,*,もも,モモ,モモ\n",
            "うち\t名詞,非自立,副詞可能,*,*,*,うち,ウチ,ウチ\n"
          ]
        }
      ],
      "source": [
        "from janome.tokenizer import Tokenizer\n",
        "\n",
        "t = Tokenizer()\n",
        "\n",
        "for token in t.tokenize('もももももももものうち'):\n",
        "\thinshi = token.part_of_speech.split(',')\n",
        "\tif hinshi[0] =='名詞':\n",
        "\t   \tprint(token)"
      ]
    },
    {
      "cell_type": "code",
      "execution_count": 5,
      "id": "deacdd57",
      "metadata": {
        "colab": {
          "base_uri": "https://localhost:8080/"
        },
        "id": "deacdd57",
        "outputId": "d2fb38a5-78e7-45a9-bd32-dc883d596055"
      },
      "outputs": [
        {
          "output_type": "stream",
          "name": "stdout",
          "text": [
            "['讃岐', 'うどん', '麺', '出汁', '讃岐', 'うどん', '最高', '!']\n"
          ]
        }
      ],
      "source": [
        "from janome.tokenizer import Tokenizer\n",
        "\n",
        "t = Tokenizer()\n",
        "words=[]\n",
        "for token in t.tokenize('この讃岐うどんは麺がしっかりしていて美味しい。\\\n",
        "                                出汁もきいてる。讃岐うどん最高!'):\n",
        "\thinshi = token.part_of_speech.split(',')\n",
        "\tif hinshi[0] =='名詞' :\n",
        "\t   \twords.append(token.base_form)\n",
        "\n",
        "print(words)"
      ]
    },
    {
      "cell_type": "code",
      "execution_count": 6,
      "id": "8aae83cd",
      "metadata": {
        "colab": {
          "base_uri": "https://localhost:8080/"
        },
        "id": "8aae83cd",
        "outputId": "df662b02-d7d1-4e73-9340-6897ddc0f422"
      },
      "outputs": [
        {
          "output_type": "stream",
          "name": "stdout",
          "text": [
            "['讃岐', 'うどん', '麺', '出汁', '讃岐', 'うどん', '最高', '!']\n",
            "Counter({'讃岐': 2, 'うどん': 2, '麺': 1, '出汁': 1, '最高': 1, '!': 1})\n"
          ]
        }
      ],
      "source": [
        "from janome.tokenizer import Tokenizer\n",
        "import collections\n",
        "t = Tokenizer()\n",
        "words=[]\n",
        "for token in t.tokenize('この讃岐うどんは麺がしっかりしていて美味しい。\\\n",
        "                                出汁もきいてる。讃岐うどん最高!'):\n",
        "\thinshi = token.part_of_speech.split(',')\n",
        "\tif hinshi[0] =='名詞' :\n",
        "\t   \twords.append(token.base_form)\n",
        "\n",
        "print(words)\n",
        "word_counter=collections.Counter(words)\n",
        "print(word_counter)"
      ]
    },
    {
      "cell_type": "code",
      "execution_count": 7,
      "id": "44NJgL6-Dflo",
      "metadata": {
        "colab": {
          "base_uri": "https://localhost:8080/"
        },
        "id": "44NJgL6-Dflo",
        "outputId": "62ebc3fb-2d6f-4216-c1a2-ce6115aaae6d"
      },
      "outputs": [
        {
          "output_type": "stream",
          "name": "stdout",
          "text": [
            "Collecting japanize_matplotlib\n",
            "  Downloading japanize-matplotlib-1.1.3.tar.gz (4.1 MB)\n",
            "\u001b[2K     \u001b[90m━━━━━━━━━━━━━━━━━━━━━━━━━━━━━━━━━━━━━━━━\u001b[0m \u001b[32m4.1/4.1 MB\u001b[0m \u001b[31m17.3 MB/s\u001b[0m eta \u001b[36m0:00:00\u001b[0m\n",
            "\u001b[?25h  Preparing metadata (setup.py) ... \u001b[?25l\u001b[?25hdone\n",
            "Requirement already satisfied: matplotlib in /usr/local/lib/python3.10/dist-packages (from japanize_matplotlib) (3.7.1)\n",
            "Requirement already satisfied: contourpy>=1.0.1 in /usr/local/lib/python3.10/dist-packages (from matplotlib->japanize_matplotlib) (1.2.1)\n",
            "Requirement already satisfied: cycler>=0.10 in /usr/local/lib/python3.10/dist-packages (from matplotlib->japanize_matplotlib) (0.12.1)\n",
            "Requirement already satisfied: fonttools>=4.22.0 in /usr/local/lib/python3.10/dist-packages (from matplotlib->japanize_matplotlib) (4.51.0)\n",
            "Requirement already satisfied: kiwisolver>=1.0.1 in /usr/local/lib/python3.10/dist-packages (from matplotlib->japanize_matplotlib) (1.4.5)\n",
            "Requirement already satisfied: numpy>=1.20 in /usr/local/lib/python3.10/dist-packages (from matplotlib->japanize_matplotlib) (1.25.2)\n",
            "Requirement already satisfied: packaging>=20.0 in /usr/local/lib/python3.10/dist-packages (from matplotlib->japanize_matplotlib) (24.0)\n",
            "Requirement already satisfied: pillow>=6.2.0 in /usr/local/lib/python3.10/dist-packages (from matplotlib->japanize_matplotlib) (9.4.0)\n",
            "Requirement already satisfied: pyparsing>=2.3.1 in /usr/local/lib/python3.10/dist-packages (from matplotlib->japanize_matplotlib) (3.1.2)\n",
            "Requirement already satisfied: python-dateutil>=2.7 in /usr/local/lib/python3.10/dist-packages (from matplotlib->japanize_matplotlib) (2.8.2)\n",
            "Requirement already satisfied: six>=1.5 in /usr/local/lib/python3.10/dist-packages (from python-dateutil>=2.7->matplotlib->japanize_matplotlib) (1.16.0)\n",
            "Building wheels for collected packages: japanize_matplotlib\n",
            "  Building wheel for japanize_matplotlib (setup.py) ... \u001b[?25l\u001b[?25hdone\n",
            "  Created wheel for japanize_matplotlib: filename=japanize_matplotlib-1.1.3-py3-none-any.whl size=4120257 sha256=67f8c74d8effb948cba5000de6c8772a5e66126058ef85a8b40201f411cba415\n",
            "  Stored in directory: /root/.cache/pip/wheels/61/7a/6b/df1f79be9c59862525070e157e62b08eab8ece27c1b68fbb94\n",
            "Successfully built japanize_matplotlib\n",
            "Installing collected packages: japanize_matplotlib\n",
            "Successfully installed japanize_matplotlib-1.1.3\n"
          ]
        }
      ],
      "source": [
        "!pip install japanize_matplotlib"
      ]
    },
    {
      "cell_type": "code",
      "execution_count": 8,
      "id": "328c9dc3",
      "metadata": {
        "colab": {
          "base_uri": "https://localhost:8080/",
          "height": 429
        },
        "id": "328c9dc3",
        "outputId": "8ae3f20b-3b27-4231-d60f-ee3cab9c6054"
      },
      "outputs": [
        {
          "output_type": "display_data",
          "data": {
            "text/plain": [
              "<Figure size 640x480 with 1 Axes>"
            ],
            "image/png": "[encoded data removed]"
          },
          "metadata": {}
        }
      ],
      "source": [
        "import matplotlib.pyplot as plt\n",
        "import numpy as np\n",
        "import japanize_matplotlib\n",
        "\n",
        "value_list=[]\n",
        "key_list=[]\n",
        "for k,v in word_counter.items():\n",
        "\n",
        "\tkey_list.append(k)\n",
        "\tvalue_list.append(v)\n",
        "\n",
        "plt.bar(np.arange(len(value_list)), np.array(value_list), tick_label=key_list, align=\"center\")\n",
        "plt.xticks(np.arange(len(value_list)),key_list)\n",
        "\n",
        "plt.show()"
      ]
    },
    {
      "cell_type": "code",
      "execution_count": null,
      "id": "otOTEEgxEQGN",
      "metadata": {
        "id": "otOTEEgxEQGN"
      },
      "outputs": [],
      "source": []
    },
    {
      "cell_type": "code",
      "execution_count": null,
      "id": "vW9WqTJ-EHnL",
      "metadata": {
        "colab": {
          "base_uri": "https://localhost:8080/"
        },
        "id": "vW9WqTJ-EHnL",
        "outputId": "60ca3bc9-b26b-4b1f-eb7b-11d746a0c339"
      },
      "outputs": [
        {
          "name": "stdout",
          "output_type": "stream",
          "text": [
            "Drive already mounted at /content/drive; to attempt to forcibly remount, call drive.mount(\"/content/drive\", force_remount=True).\n"
          ]
        }
      ],
      "source": [
        "\n"
      ]
    },
    {
      "cell_type": "code",
      "execution_count": 9,
      "id": "615f6d62",
      "metadata": {
        "colab": {
          "base_uri": "https://localhost:8080/",
          "height": 741
        },
        "id": "615f6d62",
        "outputId": "66ad9d03-09a7-419b-cc7d-edca03951ccf"
      },
      "outputs": [
        {
          "output_type": "execute_result",
          "data": {
            "text/plain": [
              "[Text(0, 0, 'スープ'),\n",
              " Text(1, 0, 'チャーシュー'),\n",
              " Text(2, 0, '麺'),\n",
              " Text(3, 0, '香り'),\n",
              " Text(4, 0, 'メンマ'),\n",
              " Text(5, 0, 'AFURI'),\n",
              " Text(6, 0, '柚子'),\n",
              " Text(7, 0, '塩'),\n",
              " Text(8, 0, 'ー'),\n",
              " Text(9, 0, 'めん'),\n",
              " Text(10, 0, '味'),\n",
              " Text(11, 0, '鶏'),\n",
              " Text(12, 0, '水菜'),\n",
              " Text(13, 0, '海苔'),\n",
              " Text(14, 0, '感じ'),\n",
              " Text(15, 0, 'メニュー'),\n",
              " Text(16, 0, '食券'),\n",
              " Text(17, 0, '席'),\n",
              " Text(18, 0, '風味'),\n",
              " Text(19, 0, 'ごはん'),\n",
              " Text(20, 0, '醤油'),\n",
              " Text(21, 0, 'カウンター')]"
            ]
          },
          "metadata": {},
          "execution_count": 9
        },
        {
          "output_type": "display_data",
          "data": {
            "text/plain": [
              "<Figure size 2000x500 with 2 Axes>"
            ],
            "image/png": "[encoded data removed]"
          },
          "metadata": {}
        }
      ],
      "source": [
        "import pandas as pd\n",
        "import matplotlib.pyplot as plt\n",
        "import numpy as np\n",
        "from janome.tokenizer import Tokenizer\n",
        "import collections\n",
        "import japanize_matplotlib\n",
        "from pylab import rcParams\n",
        "\n",
        "\n",
        "rcParams['figure.figsize'] = 20,5\n",
        "\n",
        "#tabelog_df = pd.read_csv('/content/drive/MyDrive/saitama_pref_python/programs/data/tabelog.csv', encoding='CP932')\n",
        "tabelog_df = pd.read_csv('tabelog_udon.csv', encoding='CP932')\n",
        "udon_reviews=''\n",
        "ramen_reviews=''\n",
        "for label,review in zip(tabelog_df['label'],tabelog_df['text']):\n",
        "\n",
        "\tif 'うどん' in label:\n",
        "\t\tudon_reviews+=review\n",
        "\telif 'ラーメン' in label:\n",
        "\t\tramen_reviews+=review\n",
        "\n",
        "\n",
        "t = Tokenizer()\n",
        "\n",
        "def count_words(reviews):\n",
        "\tword_list=[]\n",
        "\tfor token in t.tokenize(reviews):\n",
        "\t\thinshi = token.part_of_speech.split(',')\n",
        "\t\tif hinshi[0] =='名詞' and hinshi[1] =='一般' and token.surface != 'うどん' and token.surface !='ラーメン' and token.surface.find('店')== -1:\n",
        "\t\t\tword_list.append(token.base_form)\n",
        "\tword_counter = collections.Counter(word_list)\n",
        "\tvalue_list=[]\n",
        "\tkey_list=[]\n",
        "\tfor k,v in word_counter.items():\n",
        "\n",
        "\t\tif v >5 :\n",
        "\t\t\tkey_list.append(k)\n",
        "\t\t\tvalue_list.append(v)\n",
        "\treturn key_list,value_list\n",
        "\n",
        "udon_key,udon_val = count_words(udon_reviews)\n",
        "ramen_key, ramen_val = count_words(ramen_reviews)\n",
        "\n",
        "fig = plt.figure()\n",
        "ax1=fig.add_subplot(121,title='うどん棒グラフ')\n",
        "ax1.bar(np.arange(len(udon_val)), np.array(udon_val), tick_label=udon_key, align=\"center\")\n",
        "ax1.set_xticks(np.arange(len(udon_val)))\n",
        "ax1.set_xticklabels(udon_key, rotation=45, ha='right',fontsize=8)\n",
        "#ax1.xticks(np.arange(len(udon_val)),udon_key)\n",
        "ax2=fig.add_subplot(122,title='ラーメン棒グラフ')\n",
        "ax2.bar(np.arange(len(ramen_val)), np.array(ramen_val), tick_label=ramen_key, align=\"center\")\n",
        "ax2.set_xticks(np.arange(len(ramen_val)))\n",
        "ax2.set_xticklabels(ramen_key, rotation=45, ha='right',fontsize=8)"
      ]
    },
    {
      "cell_type": "code",
      "execution_count": null,
      "id": "-Seq5kZnDqyP",
      "metadata": {
        "id": "-Seq5kZnDqyP"
      },
      "outputs": [],
      "source": []
    }
  ],
  "metadata": {
    "colab": {
      "provenance": []
    },
    "kernelspec": {
      "display_name": "Python 3 (ipykernel)",
      "language": "python",
      "name": "python3"
    },
    "language_info": {
      "codemirror_mode": {
        "name": "ipython",
        "version": 3
      },
      "file_extension": ".py",
      "mimetype": "text/x-python",
      "name": "python",
      "nbconvert_exporter": "python",
      "pygments_lexer": "ipython3",
      "version": "3.9.12"
    }
  },
  "nbformat": 4,
  "nbformat_minor": 5
}